{
 "cells": [
  {
   "cell_type": "code",
   "execution_count": 33,
   "metadata": {},
   "outputs": [],
   "source": [
    "import numpy as np # linear algebra\n",
    "import pandas as pd # data processing, CSV file I/O (e.g. pd.read_csv)\n",
    "import codecs\n",
    "import os\n",
    "import pandas as pd\n",
    "import numpy as np\n",
    "import regex\n",
    "from collections import Counter\n",
    "from tqdm import tqdm\n",
    "from nltk.translate.bleu_score import sentence_bleu\n",
    "import re "
   ]
  },
  {
   "cell_type": "code",
   "execution_count": 34,
   "metadata": {},
   "outputs": [
    {
     "name": "stdout",
     "output_type": "stream",
     "text": [
      "(31096, 6)\n",
      "21767 6219 3110 sum: 31096\n"
     ]
    }
   ],
   "source": [
    "bible_ver_dic = {}\n",
    "\n",
    "new_bib = pd.read_csv(\"./data/bible/t_web.csv\", index_col = [0])\n",
    "old_bib = pd.read_csv(\"./data/bible/t_kjv.csv\", index_col = [0])\n",
    "literal_bib = pd.read_csv(\"./data/bible/t_ylt.csv\", index_col = [0])\n",
    "\n",
    "new_bib.t = new_bib.t.str.lower()\n",
    "old_bib.t = old_bib.t.str.lower()\n",
    "literal_bib.t = literal_bib.t.str.lower()\n",
    "\n",
    "\n",
    "# a regex to remove the curly braces and the notes inside them. \n",
    "def remove_notes(notes):\n",
    "    return regex.sub(\"[\\{\\[].*?[\\}\\]]\", \"\", notes)\n",
    "\n",
    "# remove notes from the bible text\n",
    "new_bib.t = new_bib.t.apply(remove_notes)\n",
    "old_bib.t = old_bib.t.apply(remove_notes)\n",
    "literal_bib.t = literal_bib.t.apply(remove_notes)\n",
    "\n",
    "bibles = new_bib.copy()\n",
    "bibles['new_bib'] = new_bib.t\n",
    "bibles['old_bib'] = old_bib.t\n",
    "bibles['literal_bib'] = literal_bib.t\n",
    "bibles = bibles.drop(columns='t')\n",
    "\n",
    "np.where(bibles.applymap(lambda x: x == ''))[0]\n",
    "\n",
    "\n",
    "empty_rows = bibles[bibles['new_bib'] == ''].index\n",
    "bibles = bibles.drop(empty_rows)\n",
    "np.where(bibles.applymap(lambda x: x == ''))[0]\n",
    "\n",
    "\n",
    "\n",
    "bibles = bibles.sample(frac=1)\n",
    "print(bibles.shape)\n",
    "bibles.head()\n",
    "bibles.to_csv('./data/preprocessed/bibles_suffled.csv')\n",
    "\n",
    "train = round(31096 * 0.7)\n",
    "val = round(31096 * 0.2)\n",
    "test = round(31096 * 0.1)\n",
    "print(train, val, test, 'sum:',train+test+val)"
   ]
  },
  {
   "cell_type": "code",
   "execution_count": 38,
   "metadata": {},
   "outputs": [],
   "source": [
    "\n",
    "\n",
    "new_bib.t = new_bib.t.apply(text_cleaner)\n",
    "\n"
   ]
  },
  {
   "cell_type": "code",
   "execution_count": 39,
   "metadata": {},
   "outputs": [
    {
     "data": {
      "text/html": [
       "<div>\n",
       "<style scoped>\n",
       "    .dataframe tbody tr th:only-of-type {\n",
       "        vertical-align: middle;\n",
       "    }\n",
       "\n",
       "    .dataframe tbody tr th {\n",
       "        vertical-align: top;\n",
       "    }\n",
       "\n",
       "    .dataframe thead th {\n",
       "        text-align: right;\n",
       "    }\n",
       "</style>\n",
       "<table border=\"1\" class=\"dataframe\">\n",
       "  <thead>\n",
       "    <tr style=\"text-align: right;\">\n",
       "      <th></th>\n",
       "      <th>b</th>\n",
       "      <th>c</th>\n",
       "      <th>v</th>\n",
       "      <th>t</th>\n",
       "    </tr>\n",
       "    <tr>\n",
       "      <th>id</th>\n",
       "      <th></th>\n",
       "      <th></th>\n",
       "      <th></th>\n",
       "      <th></th>\n",
       "    </tr>\n",
       "  </thead>\n",
       "  <tbody>\n",
       "    <tr>\n",
       "      <th>1001001</th>\n",
       "      <td>1</td>\n",
       "      <td>1</td>\n",
       "      <td>1</td>\n",
       "      <td>in the beginning god created the heavens and t...</td>\n",
       "    </tr>\n",
       "    <tr>\n",
       "      <th>1001002</th>\n",
       "      <td>1</td>\n",
       "      <td>1</td>\n",
       "      <td>2</td>\n",
       "      <td>now the earth was formless and empty darkness ...</td>\n",
       "    </tr>\n",
       "    <tr>\n",
       "      <th>1001003</th>\n",
       "      <td>1</td>\n",
       "      <td>1</td>\n",
       "      <td>3</td>\n",
       "      <td>god said let there be light and there was light</td>\n",
       "    </tr>\n",
       "    <tr>\n",
       "      <th>1001004</th>\n",
       "      <td>1</td>\n",
       "      <td>1</td>\n",
       "      <td>4</td>\n",
       "      <td>god saw the light and saw that it was good god...</td>\n",
       "    </tr>\n",
       "    <tr>\n",
       "      <th>1001005</th>\n",
       "      <td>1</td>\n",
       "      <td>1</td>\n",
       "      <td>5</td>\n",
       "      <td>god called the light day and the darkness he c...</td>\n",
       "    </tr>\n",
       "    <tr>\n",
       "      <th>...</th>\n",
       "      <td>...</td>\n",
       "      <td>...</td>\n",
       "      <td>...</td>\n",
       "      <td>...</td>\n",
       "    </tr>\n",
       "    <tr>\n",
       "      <th>66022017</th>\n",
       "      <td>66</td>\n",
       "      <td>22</td>\n",
       "      <td>17</td>\n",
       "      <td>the spirit and the bride say come he who hears...</td>\n",
       "    </tr>\n",
       "    <tr>\n",
       "      <th>66022018</th>\n",
       "      <td>66</td>\n",
       "      <td>22</td>\n",
       "      <td>18</td>\n",
       "      <td>testify to everyone who hears the words of the...</td>\n",
       "    </tr>\n",
       "    <tr>\n",
       "      <th>66022019</th>\n",
       "      <td>66</td>\n",
       "      <td>22</td>\n",
       "      <td>19</td>\n",
       "      <td>if anyone takes away from the words of the boo...</td>\n",
       "    </tr>\n",
       "    <tr>\n",
       "      <th>66022020</th>\n",
       "      <td>66</td>\n",
       "      <td>22</td>\n",
       "      <td>20</td>\n",
       "      <td>he who testifies these things says yes come qu...</td>\n",
       "    </tr>\n",
       "    <tr>\n",
       "      <th>66022021</th>\n",
       "      <td>66</td>\n",
       "      <td>22</td>\n",
       "      <td>21</td>\n",
       "      <td>the grace of the lord jesus christ be with all...</td>\n",
       "    </tr>\n",
       "  </tbody>\n",
       "</table>\n",
       "<p>31102 rows × 4 columns</p>\n",
       "</div>"
      ],
      "text/plain": [
       "           b   c   v                                                  t\n",
       "id                                                                     \n",
       "1001001    1   1   1  in the beginning god created the heavens and t...\n",
       "1001002    1   1   2  now the earth was formless and empty darkness ...\n",
       "1001003    1   1   3   god said let there be light and there was light \n",
       "1001004    1   1   4  god saw the light and saw that it was good god...\n",
       "1001005    1   1   5  god called the light day and the darkness he c...\n",
       "...       ..  ..  ..                                                ...\n",
       "66022017  66  22  17  the spirit and the bride say come he who hears...\n",
       "66022018  66  22  18  testify to everyone who hears the words of the...\n",
       "66022019  66  22  19  if anyone takes away from the words of the boo...\n",
       "66022020  66  22  20  he who testifies these things says yes come qu...\n",
       "66022021  66  22  21  the grace of the lord jesus christ be with all...\n",
       "\n",
       "[31102 rows x 4 columns]"
      ]
     },
     "execution_count": 39,
     "metadata": {},
     "output_type": "execute_result"
    }
   ],
   "source": [
    "new_bib"
   ]
  },
  {
   "cell_type": "code",
   "execution_count": null,
   "metadata": {},
   "outputs": [],
   "source": []
  },
  {
   "cell_type": "code",
   "execution_count": 25,
   "metadata": {},
   "outputs": [
    {
     "name": "stdout",
     "output_type": "stream",
     "text": [
      "21767 6219 3110 sum: 31096\n"
     ]
    }
   ],
   "source": [
    "train = round(31096 * 0.7)\n",
    "val = round(31096 * 0.2)\n",
    "test = round(31096 * 0.1)\n",
    "print(train, val, test, 'sum:',train+test+val)"
   ]
  },
  {
   "cell_type": "code",
   "execution_count": 26,
   "metadata": {},
   "outputs": [],
   "source": [
    "train_df = bibles[0:train].copy()\n",
    "val_df = bibles[train:val+train].copy()\n",
    "test_df = bibles[val+train:test+val+train].copy()\n"
   ]
  },
  {
   "cell_type": "code",
   "execution_count": 27,
   "metadata": {},
   "outputs": [],
   "source": [
    "train_df['trg'] = train_df['literal_bib']\n",
    "train_df['src'] = train_df['new_bib']\n",
    "train_df = train_df.drop(columns = ['b', 'c', 'v', 'new_bib', 'old_bib', 'literal_bib'])\n",
    "\n",
    "val_df['trg'] = val_df['literal_bib']\n",
    "val_df['src'] = val_df['new_bib']\n",
    "val_df = val_df.drop(columns = ['b', 'c', 'v', 'new_bib', 'old_bib', 'literal_bib'])\n",
    "\n",
    "test_df['trg'] = test_df['literal_bib']\n",
    "test_df['src'] = test_df['new_bib']\n",
    "test_df = test_df.drop(columns = ['b', 'c', 'v', 'new_bib', 'old_bib', 'literal_bib'])"
   ]
  },
  {
   "cell_type": "code",
   "execution_count": 30,
   "metadata": {},
   "outputs": [],
   "source": [
    "train_df.to_csv('./data/preprocessed/train_df.csv')\n",
    "val_df.to_csv('./data/preprocessed/val_df.csv')\n",
    "test_df.to_csv('./data/preprocessed/test_df.csv')"
   ]
  },
  {
   "cell_type": "code",
   "execution_count": null,
   "metadata": {},
   "outputs": [],
   "source": []
  },
  {
   "cell_type": "code",
   "execution_count": null,
   "metadata": {},
   "outputs": [],
   "source": []
  }
 ],
 "metadata": {
  "kernelspec": {
   "display_name": "Python 3",
   "language": "python",
   "name": "python3"
  },
  "language_info": {
   "codemirror_mode": {
    "name": "ipython",
    "version": 3
   },
   "file_extension": ".py",
   "mimetype": "text/x-python",
   "name": "python",
   "nbconvert_exporter": "python",
   "pygments_lexer": "ipython3",
   "version": "3.6.10"
  }
 },
 "nbformat": 4,
 "nbformat_minor": 4
}
