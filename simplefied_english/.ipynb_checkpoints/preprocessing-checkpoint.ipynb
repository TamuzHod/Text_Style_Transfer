{
 "cells": [
  {
   "cell_type": "code",
   "execution_count": 1,
   "metadata": {},
   "outputs": [],
   "source": [
    "import numpy as np # linear algebra\n",
    "import pandas as pd # data processing, CSV file I/O (e.g. pd.read_csv)\n",
    "import codecs\n",
    "import os\n",
    "import pandas as pd\n",
    "import numpy as np\n",
    "from collections import Counter\n",
    "from tqdm import tqdm\n",
    "from nltk.translate.bleu_score import sentence_bleu\n",
    "import re "
   ]
  },
  {
   "cell_type": "code",
   "execution_count": null,
   "metadata": {},
   "outputs": [],
   "source": []
  },
  {
   "cell_type": "code",
   "execution_count": 7,
   "metadata": {},
   "outputs": [
    {
     "name": "stdout",
     "output_type": "stream",
     "text": [
      "(31102, 5)\n",
      "21767 6219 3110 sum: 31096\n"
     ]
    }
   ],
   "source": [
    "bible_ver_dic = {}\n",
    "\n",
    "std_bib = pd.read_csv(\"../data/Bible/t_asv.csv\", index_col = [0])\n",
    "sim_bib = pd.read_csv(\"../data/Bible/t_bbe.csv\", index_col = [0])\n",
    "\n",
    "std_bib.t = std_bib.t.str.lower()\n",
    "sim_bib.t = sim_bib.t.str.lower()\n",
    "\n",
    "def text_cleaner(text):\n",
    "    newString = re.sub(\"[\\{\\[].*?[\\}\\]]\", \"\", text)\n",
    "    newString = re.sub('\"','', newString)\n",
    "    newString = re.sub(r\"'s\\b\",\"\",newString)\n",
    "    newString = re.sub(\"[^a-zA-Z]\", \" \", newString)\n",
    "    newString = newString.lower()\n",
    "    tokens=newString.split()\n",
    "    newString=''\n",
    "    for i in tokens:\n",
    "        if len(i)>1:                                 \n",
    "            newString=newString+i+' '  \n",
    "    return newString\n",
    "\n",
    "# remove notes from the bible text\n",
    "std_bib.t = std_bib.t.apply(text_cleaner)\n",
    "sim_bib.t = sim_bib.t.apply(text_cleaner)\n",
    "\n",
    "bibles = std_bib.copy()\n",
    "bibles['std_bib'] = std_bib.t\n",
    "bibles['sim_bib'] = sim_bib.t\n",
    "bibles = bibles.drop(columns='t')\n",
    "\n",
    "np.where(bibles.applymap(lambda x: x == ''))[0]\n",
    "\n",
    "\n",
    "empty_rows = bibles[bibles['std_bib'] == ''].index\n",
    "bibles = bibles.drop(empty_rows)\n",
    "np.where(bibles.applymap(lambda x: x == ''))[0]\n",
    "\n",
    "\n",
    "\n",
    "bibles = bibles.sample(frac=1)\n",
    "print(bibles.shape)\n",
    "bibles.head()\n",
    "bibles.to_csv('../data/preprocessed/modern_simplefied/bibles_suffled.csv')\n",
    "\n",
    "train = round(31096 * 0.7)\n",
    "val = round(31096 * 0.2)\n",
    "test = round(31096 * 0.1)\n",
    "print(train, val, test, 'sum:',train+test+val)"
   ]
  },
  {
   "cell_type": "code",
   "execution_count": null,
   "metadata": {},
   "outputs": [],
   "source": [
    "\n",
    "\n"
   ]
  },
  {
   "cell_type": "code",
   "execution_count": null,
   "metadata": {},
   "outputs": [],
   "source": []
  },
  {
   "cell_type": "code",
   "execution_count": null,
   "metadata": {},
   "outputs": [],
   "source": []
  },
  {
   "cell_type": "code",
   "execution_count": 8,
   "metadata": {},
   "outputs": [
    {
     "name": "stdout",
     "output_type": "stream",
     "text": [
      "21767 6219 3110 sum: 31096\n"
     ]
    }
   ],
   "source": [
    "train = round(31096 * 0.7)\n",
    "val = round(31096 * 0.2)\n",
    "test = round(31096 * 0.1)\n",
    "print(train, val, test, 'sum:',train+test+val)"
   ]
  },
  {
   "cell_type": "code",
   "execution_count": 9,
   "metadata": {},
   "outputs": [],
   "source": [
    "train_df = bibles[0:train].copy()\n",
    "val_df = bibles[train:val+train].copy()\n",
    "test_df = bibles[val+train:test+val+train].copy()\n"
   ]
  },
  {
   "cell_type": "code",
   "execution_count": 11,
   "metadata": {},
   "outputs": [],
   "source": [
    "train_df['trg'] = train_df['sim_bib']\n",
    "train_df['src'] = train_df['std_bib']\n",
    "train_df = train_df.drop(columns = ['b', 'c', 'v', 'sim_bib', 'std_bib'])\n",
    "\n",
    "val_df['trg'] = val_df['sim_bib']\n",
    "val_df['src'] = val_df['std_bib']\n",
    "val_df = val_df.drop(columns = ['b', 'c', 'v', 'sim_bib', 'std_bib'])\n",
    "\n",
    "test_df['trg'] = test_df['sim_bib']\n",
    "test_df['src'] = test_df['std_bib']\n",
    "test_df = test_df.drop(columns = ['b', 'c', 'v', 'sim_bib', 'std_bib'])"
   ]
  },
  {
   "cell_type": "code",
   "execution_count": 12,
   "metadata": {},
   "outputs": [],
   "source": [
    "train_df.to_csv('../data/preprocessed/modern_simplefied/train_df.csv', header=None)\n",
    "val_df.to_csv('../data/preprocessed/modern_simplefied/val_df.csv', header=None)\n",
    "test_df.to_csv('../data/preprocessed/modern_simplefied/test_df.csv', header=None)"
   ]
  },
  {
   "cell_type": "code",
   "execution_count": null,
   "metadata": {},
   "outputs": [],
   "source": []
  },
  {
   "cell_type": "code",
   "execution_count": null,
   "metadata": {},
   "outputs": [],
   "source": []
  },
  {
   "cell_type": "code",
   "execution_count": null,
   "metadata": {},
   "outputs": [],
   "source": []
  },
  {
   "cell_type": "code",
   "execution_count": null,
   "metadata": {},
   "outputs": [],
   "source": []
  }
 ],
 "metadata": {
  "kernelspec": {
   "display_name": "Python 3",
   "language": "python",
   "name": "python3"
  },
  "language_info": {
   "codemirror_mode": {
    "name": "ipython",
    "version": 3
   },
   "file_extension": ".py",
   "mimetype": "text/x-python",
   "name": "python",
   "nbconvert_exporter": "python",
   "pygments_lexer": "ipython3",
   "version": "3.7.3"
  }
 },
 "nbformat": 4,
 "nbformat_minor": 4
}
