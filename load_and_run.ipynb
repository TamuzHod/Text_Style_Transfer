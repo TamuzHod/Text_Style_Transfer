{
 "cells": [
  {
   "cell_type": "code",
   "execution_count": 2,
   "metadata": {},
   "outputs": [],
   "source": [
    "import pandas as pd\n",
    "import logging\n",
    "import glob\n",
    "from sklearn.model_selection import train_test_split\n",
    "pd.set_option('display.max_colwidth', 500)\n",
    "logger = logging.getLogger()\n",
    "logger.setLevel(logging.WARNING)"
   ]
  },
  {
   "cell_type": "code",
   "execution_count": null,
   "metadata": {},
   "outputs": [],
   "source": []
  },
  {
   "cell_type": "code",
   "execution_count": 4,
   "metadata": {},
   "outputs": [
    {
     "data": {
      "text/html": [
       "<div>\n",
       "<style scoped>\n",
       "    .dataframe tbody tr th:only-of-type {\n",
       "        vertical-align: middle;\n",
       "    }\n",
       "\n",
       "    .dataframe tbody tr th {\n",
       "        vertical-align: top;\n",
       "    }\n",
       "\n",
       "    .dataframe thead th {\n",
       "        text-align: right;\n",
       "    }\n",
       "</style>\n",
       "<table border=\"1\" class=\"dataframe\">\n",
       "  <thead>\n",
       "    <tr style=\"text-align: right;\">\n",
       "      <th></th>\n",
       "      <th>id</th>\n",
       "      <th>trg</th>\n",
       "      <th>src</th>\n",
       "    </tr>\n",
       "  </thead>\n",
       "  <tbody>\n",
       "    <tr>\n",
       "      <th>0</th>\n",
       "      <td>24007008</td>\n",
       "      <td>lo, ye are trusting for yourselves on the words of falsehood, so as not to profit.</td>\n",
       "      <td>behold, you trust in lying words, that can't profit.</td>\n",
       "    </tr>\n",
       "    <tr>\n",
       "      <th>1</th>\n",
       "      <td>18026001</td>\n",
       "      <td>and job answereth and saith: --</td>\n",
       "      <td>then job answered,</td>\n",
       "    </tr>\n",
       "    <tr>\n",
       "      <th>2</th>\n",
       "      <td>6019015</td>\n",
       "      <td>and kattath, and nahallal, and shimron, and idalah, and beth-lehem; twelve cities and their villages.</td>\n",
       "      <td>and kattath, and nahalal, and shimron, and idalah, and bethlehem: twelve cities with their villages.</td>\n",
       "    </tr>\n",
       "  </tbody>\n",
       "</table>\n",
       "</div>"
      ],
      "text/plain": [
       "         id  \\\n",
       "0  24007008   \n",
       "1  18026001   \n",
       "2   6019015   \n",
       "\n",
       "                                                                                                     trg  \\\n",
       "0                     lo, ye are trusting for yourselves on the words of falsehood, so as not to profit.   \n",
       "1                                                                        and job answereth and saith: --   \n",
       "2  and kattath, and nahallal, and shimron, and idalah, and beth-lehem; twelve cities and their villages.   \n",
       "\n",
       "                                                                                                    src  \n",
       "0                                                  behold, you trust in lying words, that can't profit.  \n",
       "1                                                                                    then job answered,  \n",
       "2  and kattath, and nahalal, and shimron, and idalah, and bethlehem: twelve cities with their villages.  "
      ]
     },
     "execution_count": 4,
     "metadata": {},
     "output_type": "execute_result"
    }
   ],
   "source": [
    "#read in data sample 2M rows (for speed of tutorial)\n",
    "traindf = pd.read_csv('./data/preprocessed/train_df.csv')\n",
    "\n",
    "# preview data\n",
    "traindf.head(3)"
   ]
  },
  {
   "cell_type": "code",
   "execution_count": 6,
   "metadata": {},
   "outputs": [],
   "source": [
    "train_trg_raw = traindf.trg.tolist()\n",
    "train_src_raw = traindf.src.tolist()\n",
    "\n"
   ]
  },
  {
   "cell_type": "code",
   "execution_count": 7,
   "metadata": {},
   "outputs": [
    {
     "ename": "ModuleNotFoundError",
     "evalue": "No module named 'attention'",
     "output_type": "error",
     "traceback": [
      "\u001b[1;31m---------------------------------------------------------------------------\u001b[0m",
      "\u001b[1;31mModuleNotFoundError\u001b[0m                       Traceback (most recent call last)",
      "\u001b[1;32m<ipython-input-7-c1e2bb4f3fb3>\u001b[0m in \u001b[0;36m<module>\u001b[1;34m\u001b[0m\n\u001b[1;32m----> 1\u001b[1;33m \u001b[1;32mfrom\u001b[0m \u001b[0mattention\u001b[0m \u001b[1;32mimport\u001b[0m \u001b[0mAttentionLayer\u001b[0m\u001b[1;33m\u001b[0m\u001b[1;33m\u001b[0m\u001b[0m\n\u001b[0m\u001b[0;32m      2\u001b[0m \u001b[1;33m\u001b[0m\u001b[0m\n",
      "\u001b[1;31mModuleNotFoundError\u001b[0m: No module named 'attention'"
     ]
    }
   ],
   "source": [
    "from attention import AttentionLayer\n",
    "\n"
   ]
  },
  {
   "cell_type": "code",
   "execution_count": 8,
   "metadata": {},
   "outputs": [
    {
     "ename": "ModuleNotFoundError",
     "evalue": "No module named 'keras'",
     "output_type": "error",
     "traceback": [
      "\u001b[1;31m---------------------------------------------------------------------------\u001b[0m",
      "\u001b[1;31mModuleNotFoundError\u001b[0m                       Traceback (most recent call last)",
      "\u001b[1;32m<ipython-input-8-09263e7377f8>\u001b[0m in \u001b[0;36m<module>\u001b[1;34m\u001b[0m\n\u001b[0;32m      1\u001b[0m \u001b[1;32mimport\u001b[0m \u001b[0mre\u001b[0m\u001b[1;33m\u001b[0m\u001b[1;33m\u001b[0m\u001b[0m\n\u001b[1;32m----> 2\u001b[1;33m \u001b[1;32mfrom\u001b[0m \u001b[0mkeras\u001b[0m\u001b[1;33m.\u001b[0m\u001b[0mpreprocessing\u001b[0m\u001b[1;33m.\u001b[0m\u001b[0mtext\u001b[0m \u001b[1;32mimport\u001b[0m \u001b[0mTokenizer\u001b[0m\u001b[1;33m\u001b[0m\u001b[1;33m\u001b[0m\u001b[0m\n\u001b[0m\u001b[0;32m      3\u001b[0m \u001b[1;32mfrom\u001b[0m \u001b[0mkeras\u001b[0m\u001b[1;33m.\u001b[0m\u001b[0mpreprocessing\u001b[0m\u001b[1;33m.\u001b[0m\u001b[0msequence\u001b[0m \u001b[1;32mimport\u001b[0m \u001b[0mpad_sequences\u001b[0m\u001b[1;33m\u001b[0m\u001b[1;33m\u001b[0m\u001b[0m\n\u001b[0;32m      4\u001b[0m \u001b[1;32mfrom\u001b[0m \u001b[0mnltk\u001b[0m\u001b[1;33m.\u001b[0m\u001b[0mcorpus\u001b[0m \u001b[1;32mimport\u001b[0m \u001b[0mstopwords\u001b[0m\u001b[1;33m\u001b[0m\u001b[1;33m\u001b[0m\u001b[0m\n\u001b[0;32m      5\u001b[0m \u001b[1;32mfrom\u001b[0m \u001b[0mtensorflow\u001b[0m\u001b[1;33m.\u001b[0m\u001b[0mkeras\u001b[0m\u001b[1;33m.\u001b[0m\u001b[0mlayers\u001b[0m \u001b[1;32mimport\u001b[0m \u001b[0mInput\u001b[0m\u001b[1;33m,\u001b[0m \u001b[0mLSTM\u001b[0m\u001b[1;33m,\u001b[0m \u001b[0mEmbedding\u001b[0m\u001b[1;33m,\u001b[0m \u001b[0mDense\u001b[0m\u001b[1;33m,\u001b[0m \u001b[0mConcatenate\u001b[0m\u001b[1;33m,\u001b[0m \u001b[0mTimeDistributed\u001b[0m\u001b[1;33m,\u001b[0m \u001b[0mBidirectional\u001b[0m\u001b[1;33m\u001b[0m\u001b[1;33m\u001b[0m\u001b[0m\n",
      "\u001b[1;31mModuleNotFoundError\u001b[0m: No module named 'keras'"
     ]
    }
   ],
   "source": [
    "import re           \n",
    "from keras.preprocessing.text import Tokenizer \n",
    "from keras.preprocessing.sequence import pad_sequences\n",
    "from nltk.corpus import stopwords   \n",
    "from tensorflow.keras.layers import Input, LSTM, Embedding, Dense, Concatenate, TimeDistributed, Bidirectional\n",
    "from tensorflow.keras.models import Model\n",
    "from tensorflow.keras.callbacks import EarlyStopping\n",
    "import warnings\n",
    "pd.set_option(\"display.max_colwidth\", 200)\n",
    "warnings.filterwarnings(\"ignore\")"
   ]
  },
  {
   "cell_type": "code",
   "execution_count": 6,
   "metadata": {},
   "outputs": [],
   "source": [
    "contraction_mapping = {\"ain't\": \"is not\", \"aren't\": \"are not\",\"can't\": \"cannot\", \"'cause\": \"because\", \"could've\": \"could have\", \"couldn't\": \"could not\",\n",
    "\n",
    "                           \"didn't\": \"did not\", \"doesn't\": \"does not\", \"don't\": \"do not\", \"hadn't\": \"had not\", \"hasn't\": \"has not\", \"haven't\": \"have not\",\n",
    "\n",
    "                           \"he'd\": \"he would\",\"he'll\": \"he will\", \"he's\": \"he is\", \"how'd\": \"how did\", \"how'd'y\": \"how do you\", \"how'll\": \"how will\", \"how's\": \"how is\",\n",
    "\n",
    "                           \"I'd\": \"I would\", \"I'd've\": \"I would have\", \"I'll\": \"I will\", \"I'll've\": \"I will have\",\"I'm\": \"I am\", \"I've\": \"I have\", \"i'd\": \"i would\",\n",
    "\n",
    "                           \"i'd've\": \"i would have\", \"i'll\": \"i will\",  \"i'll've\": \"i will have\",\"i'm\": \"i am\", \"i've\": \"i have\", \"isn't\": \"is not\", \"it'd\": \"it would\",\n",
    "\n",
    "                           \"it'd've\": \"it would have\", \"it'll\": \"it will\", \"it'll've\": \"it will have\",\"it's\": \"it is\", \"let's\": \"let us\", \"ma'am\": \"madam\",\n",
    "\n",
    "                           \"mayn't\": \"may not\", \"might've\": \"might have\",\"mightn't\": \"might not\",\"mightn't've\": \"might not have\", \"must've\": \"must have\",\n",
    "\n",
    "                           \"mustn't\": \"must not\", \"mustn't've\": \"must not have\", \"needn't\": \"need not\", \"needn't've\": \"need not have\",\"o'clock\": \"of the clock\",\n",
    "\n",
    "                           \"oughtn't\": \"ought not\", \"oughtn't've\": \"ought not have\", \"shan't\": \"shall not\", \"sha'n't\": \"shall not\", \"shan't've\": \"shall not have\",\n",
    "\n",
    "                           \"she'd\": \"she would\", \"she'd've\": \"she would have\", \"she'll\": \"she will\", \"she'll've\": \"she will have\", \"she's\": \"she is\",\n",
    "\n",
    "                           \"should've\": \"should have\", \"shouldn't\": \"should not\", \"shouldn't've\": \"should not have\", \"so've\": \"so have\",\"so's\": \"so as\",\n",
    "\n",
    "                           \"this's\": \"this is\",\"that'd\": \"that would\", \"that'd've\": \"that would have\", \"that's\": \"that is\", \"there'd\": \"there would\",\n",
    "\n",
    "                           \"there'd've\": \"there would have\", \"there's\": \"there is\", \"here's\": \"here is\",\"they'd\": \"they would\", \"they'd've\": \"they would have\",\n",
    "\n",
    "                           \"they'll\": \"they will\", \"they'll've\": \"they will have\", \"they're\": \"they are\", \"they've\": \"they have\", \"to've\": \"to have\",\n",
    "\n",
    "                           \"wasn't\": \"was not\", \"we'd\": \"we would\", \"we'd've\": \"we would have\", \"we'll\": \"we will\", \"we'll've\": \"we will have\", \"we're\": \"we are\",\n",
    "\n",
    "                           \"we've\": \"we have\", \"weren't\": \"were not\", \"what'll\": \"what will\", \"what'll've\": \"what will have\", \"what're\": \"what are\",\n",
    "\n",
    "                           \"what's\": \"what is\", \"what've\": \"what have\", \"when's\": \"when is\", \"when've\": \"when have\", \"where'd\": \"where did\", \"where's\": \"where is\",\n",
    "\n",
    "                           \"where've\": \"where have\", \"who'll\": \"who will\", \"who'll've\": \"who will have\", \"who's\": \"who is\", \"who've\": \"who have\",\n",
    "\n",
    "                           \"why's\": \"why is\", \"why've\": \"why have\", \"will've\": \"will have\", \"won't\": \"will not\", \"won't've\": \"will not have\",\n",
    "\n",
    "                           \"would've\": \"would have\", \"wouldn't\": \"would not\", \"wouldn't've\": \"would not have\", \"y'all\": \"you all\",\n",
    "\n",
    "                           \"y'all'd\": \"you all would\",\"y'all'd've\": \"you all would have\",\"y'all're\": \"you all are\",\"y'all've\": \"you all have\",\n",
    "\n",
    "                           \"you'd\": \"you would\", \"you'd've\": \"you would have\", \"you'll\": \"you will\", \"you'll've\": \"you will have\",\n",
    "\n",
    "                           \"you're\": \"you are\", \"you've\": \"you have\"}"
   ]
  },
  {
   "cell_type": "code",
   "execution_count": 7,
   "metadata": {},
   "outputs": [
    {
     "name": "stderr",
     "output_type": "stream",
     "text": [
      "[nltk_data] Downloading package stopwords to\n",
      "[nltk_data]     C:\\Users\\Tamuz\\AppData\\Roaming\\nltk_data...\n",
      "[nltk_data]   Package stopwords is already up-to-date!\n"
     ]
    },
    {
     "data": {
      "text/plain": [
       "True"
      ]
     },
     "execution_count": 7,
     "metadata": {},
     "output_type": "execute_result"
    }
   ],
   "source": [
    "import nltk\n",
    "nltk.download('stopwords')"
   ]
  },
  {
   "cell_type": "code",
   "execution_count": 8,
   "metadata": {},
   "outputs": [],
   "source": [
    "stop_words = set(stopwords.words('english')) \n",
    "def text_cleaner(text):\n",
    "    newString = text.lower()\n",
    "    newString = re.sub(r'\\([^)]*\\)', '', newString)\n",
    "    newString = re.sub('\"','', newString)\n",
    "    newString = ' '.join([contraction_mapping[t] if t in contraction_mapping else t for t in newString.split(\" \")])    \n",
    "    newString = re.sub(r\"'s\\b\",\"\",newString)\n",
    "    newString = re.sub(\"[^a-zA-Z]\", \" \", newString) \n",
    "    tokens = [w for w in newString.split() if not w in stop_words]\n",
    "    long_words=[]\n",
    "    for i in tokens:\n",
    "        if len(i)>=3:                  #removing short word\n",
    "            long_words.append(i)   \n",
    "    return (\" \".join(long_words)).strip()\n",
    "\n",
    "cleaned_text = []\n",
    "for t in train_body_raw:\n",
    "    cleaned_text.append(text_cleaner(t))"
   ]
  },
  {
   "cell_type": "code",
   "execution_count": null,
   "metadata": {},
   "outputs": [],
   "source": []
  },
  {
   "cell_type": "code",
   "execution_count": 9,
   "metadata": {},
   "outputs": [],
   "source": [
    "import numpy as np"
   ]
  },
  {
   "cell_type": "code",
   "execution_count": 10,
   "metadata": {},
   "outputs": [],
   "source": [
    "def summary_cleaner(text):\n",
    "    newString = re.sub('\"','', text)\n",
    "    newString = ' '.join([contraction_mapping[t] if t in contraction_mapping else t for t in newString.split(\" \")])    \n",
    "    newString = re.sub(r\"'s\\b\",\"\",newString)\n",
    "    newString = re.sub(\"[^a-zA-Z]\", \" \", newString)\n",
    "    newString = newString.lower()\n",
    "    tokens=newString.split()\n",
    "    newString=''\n",
    "    for i in tokens:\n",
    "        if len(i)>1:                                 \n",
    "            newString=newString+i+' '  \n",
    "    return newString\n",
    "\n",
    "#Call the above function\n",
    "cleaned_summary = []\n",
    "for t in train_title_raw:\n",
    "    cleaned_summary.append(summary_cleaner(t))\n"
   ]
  },
  {
   "cell_type": "code",
   "execution_count": 11,
   "metadata": {},
   "outputs": [],
   "source": [
    "data = pd.DataFrame(data = cleaned_text, columns =['cleaned_text']) \n",
    "data['cleaned_summary'] = cleaned_summary\n",
    "data['cleaned_summary'].replace('', np.nan, inplace=True)\n",
    "data.dropna(axis=0,inplace=True)"
   ]
  },
  {
   "cell_type": "code",
   "execution_count": 12,
   "metadata": {},
   "outputs": [
    {
     "data": {
      "text/html": [
       "<div>\n",
       "<style scoped>\n",
       "    .dataframe tbody tr th:only-of-type {\n",
       "        vertical-align: middle;\n",
       "    }\n",
       "\n",
       "    .dataframe tbody tr th {\n",
       "        vertical-align: top;\n",
       "    }\n",
       "\n",
       "    .dataframe thead th {\n",
       "        text-align: right;\n",
       "    }\n",
       "</style>\n",
       "<table border=\"1\" class=\"dataframe\">\n",
       "  <thead>\n",
       "    <tr style=\"text-align: right;\">\n",
       "      <th></th>\n",
       "      <th>cleaned_text</th>\n",
       "      <th>cleaned_summary</th>\n",
       "    </tr>\n",
       "  </thead>\n",
       "  <tbody>\n",
       "    <tr>\n",
       "      <th>0</th>\n",
       "      <td>washington congressional republicans new fear comes health care lawsuit obama administration might win incoming trump administration could choose longer defend executive branch suit challenges adm...</td>\n",
       "      <td>house republicans fret about winning their health care suit the new york times</td>\n",
       "    </tr>\n",
       "    <tr>\n",
       "      <th>1</th>\n",
       "      <td>bullet shells get counted blood dries votive candles burn people peer windows see crime scenes gone cold band yellow police tape blowing breeze south bronx across harlem river manhattan shorthand ...</td>\n",
       "      <td>rift between officers and residents as killings persist in south bronx the new york times</td>\n",
       "    </tr>\n",
       "    <tr>\n",
       "      <th>2</th>\n",
       "      <td>walt disney bambi opened critics praised spare haunting visual style vastly different anything disney done know film striking appearance created chinese immigrant artist took inspiration landscape...</td>\n",
       "      <td>tyrus wong bambi artist thwarted by racial bias dies at the new york times</td>\n",
       "    </tr>\n",
       "    <tr>\n",
       "      <th>3</th>\n",
       "      <td>death may great equalizer necessarily evenhanded fields endeavor suffered mortal losses consider muhammad ali arnold palmer sports hollywood deaths carrie fisher debbie reynolds pop music world ha...</td>\n",
       "      <td>among deaths in heavy toll in pop music the new york times</td>\n",
       "    </tr>\n",
       "    <tr>\n",
       "      <th>4</th>\n",
       "      <td>seoul south korea north korea leader kim said sunday country making final preparations conduct first test intercontinental ballistic missile bold statement less month inauguration donald trump alt...</td>\n",
       "      <td>kim jong un says north korea is preparing to test long range missile the new york times</td>\n",
       "    </tr>\n",
       "    <tr>\n",
       "      <th>...</th>\n",
       "      <td>...</td>\n",
       "      <td>...</td>\n",
       "    </tr>\n",
       "    <tr>\n",
       "      <th>49995</th>\n",
       "      <td>chairman ceo exxonmobil rex tillerson admitted climate change real january said company favor carbon tax years later exxon endorsed paris agreement never clear whether exxon leaders actually suppo...</td>\n",
       "      <td>rex tillerson says climate change is real but</td>\n",
       "    </tr>\n",
       "    <tr>\n",
       "      <th>49996</th>\n",
       "      <td>spent nearly years looking intelligence challenges including failures means getting call silent deadly organizational causes failure news tends gravitate toward salacious elements story like alleg...</td>\n",
       "      <td>the biggest intelligence questions raised by the trump dossier</td>\n",
       "    </tr>\n",
       "    <tr>\n",
       "      <th>49997</th>\n",
       "      <td>donald trump taking necessary steps resolve conflicts interest takes office press conference today first since june trump lawyer sheri dillon laid plans claimed would resolve questions conflicts i...</td>\n",
       "      <td>trump announces plan that does little to resolve his conflicts of interest</td>\n",
       "    </tr>\n",
       "    <tr>\n",
       "      <th>49998</th>\n",
       "      <td>dozens colleges could forced close next several years week obama administration published list schools programs risk losing access federal loans many depend survive vocational programs department ...</td>\n",
       "      <td>dozens of for profit colleges could soon close</td>\n",
       "    </tr>\n",
       "    <tr>\n",
       "      <th>49999</th>\n",
       "      <td>force gravity described using number metaphors glue holds solar systems galaxies together anchor keeps ground slingshot sends spacecraft deeper solar system cases gravity thief astronomers center ...</td>\n",
       "      <td>the milky way stolen stars</td>\n",
       "    </tr>\n",
       "  </tbody>\n",
       "</table>\n",
       "<p>49997 rows × 2 columns</p>\n",
       "</div>"
      ],
      "text/plain": [
       "                                                                                                                                                                                                  cleaned_text  \\\n",
       "0      washington congressional republicans new fear comes health care lawsuit obama administration might win incoming trump administration could choose longer defend executive branch suit challenges adm...   \n",
       "1      bullet shells get counted blood dries votive candles burn people peer windows see crime scenes gone cold band yellow police tape blowing breeze south bronx across harlem river manhattan shorthand ...   \n",
       "2      walt disney bambi opened critics praised spare haunting visual style vastly different anything disney done know film striking appearance created chinese immigrant artist took inspiration landscape...   \n",
       "3      death may great equalizer necessarily evenhanded fields endeavor suffered mortal losses consider muhammad ali arnold palmer sports hollywood deaths carrie fisher debbie reynolds pop music world ha...   \n",
       "4      seoul south korea north korea leader kim said sunday country making final preparations conduct first test intercontinental ballistic missile bold statement less month inauguration donald trump alt...   \n",
       "...                                                                                                                                                                                                        ...   \n",
       "49995  chairman ceo exxonmobil rex tillerson admitted climate change real january said company favor carbon tax years later exxon endorsed paris agreement never clear whether exxon leaders actually suppo...   \n",
       "49996  spent nearly years looking intelligence challenges including failures means getting call silent deadly organizational causes failure news tends gravitate toward salacious elements story like alleg...   \n",
       "49997  donald trump taking necessary steps resolve conflicts interest takes office press conference today first since june trump lawyer sheri dillon laid plans claimed would resolve questions conflicts i...   \n",
       "49998  dozens colleges could forced close next several years week obama administration published list schools programs risk losing access federal loans many depend survive vocational programs department ...   \n",
       "49999  force gravity described using number metaphors glue holds solar systems galaxies together anchor keeps ground slingshot sends spacecraft deeper solar system cases gravity thief astronomers center ...   \n",
       "\n",
       "                                                                                  cleaned_summary  \n",
       "0                 house republicans fret about winning their health care suit the new york times   \n",
       "1      rift between officers and residents as killings persist in south bronx the new york times   \n",
       "2                     tyrus wong bambi artist thwarted by racial bias dies at the new york times   \n",
       "3                                     among deaths in heavy toll in pop music the new york times   \n",
       "4        kim jong un says north korea is preparing to test long range missile the new york times   \n",
       "...                                                                                           ...  \n",
       "49995                                              rex tillerson says climate change is real but   \n",
       "49996                             the biggest intelligence questions raised by the trump dossier   \n",
       "49997                 trump announces plan that does little to resolve his conflicts of interest   \n",
       "49998                                             dozens of for profit colleges could soon close   \n",
       "49999                                                                 the milky way stolen stars   \n",
       "\n",
       "[49997 rows x 2 columns]"
      ]
     },
     "execution_count": 12,
     "metadata": {},
     "output_type": "execute_result"
    }
   ],
   "source": [
    "data"
   ]
  },
  {
   "cell_type": "code",
   "execution_count": null,
   "metadata": {},
   "outputs": [],
   "source": []
  },
  {
   "cell_type": "code",
   "execution_count": null,
   "metadata": {},
   "outputs": [],
   "source": []
  },
  {
   "cell_type": "code",
   "execution_count": 13,
   "metadata": {},
   "outputs": [],
   "source": [
    "data['cleaned_summary'] = data['cleaned_summary'].apply(lambda x : '_START_ '+ x + ' _END_')"
   ]
  },
  {
   "cell_type": "code",
   "execution_count": 14,
   "metadata": {},
   "outputs": [
    {
     "name": "stdout",
     "output_type": "stream",
     "text": [
      "Text: washington congressional republicans new fear comes health care lawsuit obama administration might win incoming trump administration could choose longer defend executive branch suit challenges administration authority spend billions dollars health insurance subsidies americans handing house republicans big victory issues sudden loss disputed subsidies could conceivably cause health care program implode leaving millions people without access health insurance republicans prepared replacement could lead chaos insurance market spur political backlash republicans gain full control government stave outcome republicans could find awkward position appropriating huge sums temporarily prop obama health care law angering conservative voters demanding end law years another twist donald trump administration worried preserving executive branch prerogatives could choose fight republican allies house central questions dispute eager avoid ugly political pileup republicans capitol hill trump transition team gaming handle lawsuit election put limbo least late february united states court appeals district columbia circuit yet ready divulge strategy given pending litigation involves obama administration congress would inappropriate comment said phillip blando spokesman trump transition effort upon taking office trump administration evaluate case related aspects affordable care act potentially decision judge rosemary collyer ruled house republicans standing sue executive branch spending dispute obama administration distributing health insurance subsidies violation constitution without approval congress justice department confident judge collyer decision would reversed quickly appealed subsidies remained place appeal successfully seeking temporary halt proceedings trump house republicans last month told court transition team currently discussing potential options resolution matter take effect inauguration jan suspension case house lawyers said provide future administration time consider whether continue prosecuting otherwise resolve appeal republican leadership officials house acknowledge possibility cascading effects payments totaled estimated billion suddenly stopped insurers receive subsidies exchange paying costs deductibles eligible consumers could race drop coverage since would losing money loss subsidies could destabilize entire program cause lack confidence leads insurers seek quick exit well anticipating trump administration might inclined mount vigorous fight house republicans given dim view health care law team lawyers month sought intervene case behalf two participants health care program request lawyers predicted deal house republicans new administration dismiss settle case produce devastating consequences individuals receive reductions well nation health insurance health care systems generally matter happens house republicans say want prevail two overarching concepts congressional power purse right congress sue executive branch violates constitution regarding spending power house republicans contend congress never appropriated money subsidies required constitution suit initially championed john boehner house speaker time later house committee reports republicans asserted administration desperate funding required treasury department provide despite widespread internal skepticism spending proper white house said spending permanent part law passed annual appropriation required even though administration initially sought one important house republicans judge collyer found congress standing sue white house issue ruling many legal experts said flawed want precedent set restore congressional leverage executive branch spending power standing trump administration may come pressure advocates presidential authority fight house matter shared views health care since precedents could broad repercussions complicated set dynamics illustrating quick legal victory house trump era might come costs republicans never anticipated took obama white house\n",
      "Title: _START_ house republicans fret about winning their health care suit the new york times  _END_\n",
      "\n",
      "\n",
      "Text: bullet shells get counted blood dries votive candles burn people peer windows see crime scenes gone cold band yellow police tape blowing breeze south bronx across harlem river manhattan shorthand urban dysfunction still suffers violence levels long ago slashed many parts new york city yet city efforts fight remain splintered underfunded burdened scandal precinct southern tip bronx poor minority neighborhoods across country people long hounded infractions crying protection grievous injury death september four every five shootings precinct year unsolved city precincts highest murder rate fewest detectives per violent crime reflecting disparities staffing hit hardest neighborhoods outside manhattan according new york times analysis police department data investigators precinct saddled twice number cases department recommends even bosses called police headquarters answer sharpest crime rise city year across bronx investigative resources squeezed highest rate city five boroughs thinnest detective staffing nine precinct detective squads violent crime city borough robbery squad smaller manhattan even though bronx cases year homicide squad one detective every four murders compared one detective roughly every two murders upper manhattan one detective per murder lower manhattan lobbies family apartments outside methadone clinics art studios people take note inequity hear police commanders explain lack resources place floodlight dangerous block post officers corner watch witnesses cower behind doors fearful gunman crew confident police department ability protect though people see lot rarely testify south bronx many predominantly black hispanic neighborhoods like united states contract police community tatters people stories crime reports ignored calls went unanswered hours others tell call help ending caller arrest minor charge leading hours fetid holding cell paradox policing precinct neighborhoods historically prime targets aggressive tactics like designed ward disorder precinct detectives less time anywhere else city answer blood spilled violent crimes gola white beside daughter shot killed playground summer four years son gunned housing project ticked public safety resources said scant bronx neighborhoods like security cameras lights locks investigating police officers nothing said comes families said authorities really care much feel times documenting murders logged year precinct one handful neighborhoods deadly violence remains problem era crime new york city homicides precinct year nine strain detectives unsolved half year look take law hands hundreds conversations grieving relatives friends witnesses police officers social forces flare murder place like precinct become clearer merciless gang codes mental illness drugs long memories feuds simmered officers view reasons murders never solved also emerge paralyzing fear retribution victims carrying secrets graves relentless casework forces detectives move hopes break come later frustrations build sides detectives phones rarely ring tips officers grow embittered witnesses cooperate meantime victim friends conduct investigations talk grabbing stash gun wheel well mother apartment find suspect chasm police community gangs gun violence flourish parents try protect families drug crews threats officers work overcome residue years mistrust understaffing communities still racing one call next streets around mary park scene two fatal shootings logged precinct year unsolved james fernandez heard talk murders door apartment east street betances houses lived end long hallway strewn hypodermic needles empty dope bags discarded hennessy bottles young men spoke subset bloods gang made drug market slinging marijuana cocaine regulars flashing firearms blowing smoke fernandez apartment fernandez asked young men move answered busting car kind crime anachronism much new york still rattles precinct even though murders fallen year major felony crimes per resident residential district city also one poorest communities country many young men find way underground markets fernandez one shrink threats growing lower east side rode bicycle around customers drug dealers worked collected payments backpack leaving life got tech maintenance job three years ago moved betances houses wife daughter two choices get help drug crew call police help risk labeled snitch call old lower east side bosses muscle risk violence chose police walked local substation police service area asked protection daughter using inhaler relieve coughs marijuana smoke fernandez wife got terrible headaches lot killers going kill sergeant police report quoted telling fernandez august second report filed day said warned going shoot window fernandez told police teenagers names appear reports went home said one friends seen walk substation tried intimidate filing another report three days later propped bike door said open door say something would body slam fernandez wife maria fernandez wrote slips paper used document hallway ruckus inadequate police response boys made comments easy target would slap opened door made drug sale threatened beat fernandez family ones snitching notes say another complaint substation days first brought relief week later feeling desperate fernandez tried calling first substation one boys blew weed smoke door made threat attack police never came wrote notes tried precinct station house next officers desk left standing public waiting area said making fear seen officers put worse danger months later said came door announced front teenagers complaint drug activity fernandez started work said police failed wired camera peephole record drugs guns footage hark back new york still much present precinct residents around morning sgt michael lopuzzo walks tall wooden doors precinct station house cases land metal desk dead bodies known cause strip club brawls shooting victims hobbling hospital bring resistance every turn reminding earlier era city campaign got one single phone call putting right direction said sergeant lopuzzo head precinct detective squad one day summer worked answer email inquiry murder victim aunt killer caught people understand often detectives feel effects people turning police witnesses shout away doors neighbors know refuse talk people shot wounded bronx early september third victims refused cooperate period precinct squad detectives closed three nonfatal shootings robbery cases part resistance stems preventive policing tactics like hallmark style former mayor michael bloomberg police commissioner raymond kelly near height strategy precinct stops city stops officers used force frisks stops year people done nothing criminal precinct also one areas department flooded newest officers roll calls pressured generate numbers write tickets make arrests choice give summons young man playing park dark even officers done growing neighborhood need bring something today justify existence officer argenis rosado joined precinct said interview station house small area day day hammering community course community eventually going turn pressure warped way officers residents saw rookies ignore someone might drinking outside sitting stoop cops came time probably viewed community differently said hector espada veteran precinct wanted way somehow give someone summons feel like guys could still civil conversation morale wilted aged station house alexander avenue mott officers felt pressure downgrade crime complaints make appear less serious several said interviews overlooked crime reports immigrants seen unlikely complain watched supervisors badger victims repeating stories hopes would drop complaints practice downgrading complaints resulted disciplining officers precinct last year one string scandals left officers feeling overscrutinized problems also existed elsewhere four commanders precinct sent packing five years one officers found ticket fixing forgiving parking tickets friends another recorded giving guidance stop frisk black boys men ages officers fled commands others became reluctant take assignments proactive policing units like put situations street whenever walked doors precinct seemed like black cloud said russell lewis like heaviness walked wanted hours minutes home want get caught anything precinct covers two square miles dozen housing projects mean overflows people methadone clinics draw addicts around city lofts southern edge precinct presage wave gentrification even police department hired officers neighborhood policing counterterrorism officers precinct said could still rush calls shift number unchanged new police commissioner james neill said handling similar south bronx precinct years ago several dozen calls time waiting response residents know want police domestic problem helps hint weapon last year precinct drew number civilian complaints officer misconduct city lawsuits stemming police actions precinct trying improve morale new commanding officer deputy inspector brian hennessy cadre department calls neighborhood coordination officers patrol since last january part citywide effort neill mayor bill blasio bring back beat cop unencumbered chasing every last call listen people concerns help investigations precinct made among gun arrests city officers said discretion resolve encounters without summons arrest one corner near school courtlandt avenue east street long spawned complaints gunfire fights inspector hennessy officers painted graffiti swept drug paraphernalia summer people said first answer complaints years inspector acknowledged residue policing lingers perception really sticks said workload precinct startling reveals gap detective squads equipped answer violent crime manhattan compared bronx brooklyn queens three precinct detectives carrying cases year many others loads high even though department advises violent precincts assigned homicide typically four days investigate dealing cases quieter precincts give detectives month little distraction investigate murder detectives precinct handled average violent felonies year murders rapes felony assaults robberies contrast detective precinct southern end staten island carries nine cases detective precinct patrolling union square gramercy park handles detective precinct washington heights handles citywide median last year violent crime cases per detective bronx whole precinct detective carried average violent felonies year compared manhattan brooklyn queens staten island rape cases robbery patterns later sent specialized units precinct detectives extensive initial work interview victims write reports process evidence precincts much manhattan whiter wealthier south bronx often property felonies like stolen laptops credit cards police say complex even accounting crimes precinct heaviest caseloads overall crime per detective city michael palladino head detectives endowment association former bronx officer said staffing disparities affected department efforts build trust communities like south bronx witnesses make calculation said cooperate detectives much work even get chance protect late retaliation comes sergeant lopuzzo turned prestigious post stay precinct said squad worked tirelessly handle cases people every squad wanted detectives staffing needs counterterrorism units task forces created new deployment challenges across department fight army army wish said details police department assigns officers closely held constantly flux public minimal information personnel allocated presented times analysis confidential staffing data department chief detectives robert boyce vowed send detectives precinct said department would reassess deployment broadly troubled precincts said recent decision bring gang narcotics vice detectives command made easier shift personnel chief boyce said burdens detectives went beyond felony crimes include cases noted support precinct squads got centralized units focusing robberies gangs grand larcenies example major crime keeps pounding precinct rates tenth percent lower even citywide crime dropped third period precinct detective squad shrank eight investigators years according staffing data obtained city council freedom information law request squad covering union square gramercy park crime dropped third period grew investigators retired detectives skeptical community relations alone drive crime city last busiest precincts rather say police department dedicating resources providing sort robust investigative response seems standard manhattan crime manhattan solved said howard landesberg precinct detective late outer boroughs like forgotten retired detectives said understaffing made harder solve crimes bronx brooklyn queens higher prevalence gang drug killings already saddled investigators cases people inclined cooperate detectives closed percent homicides manhattan percent staten island year compared percent bronx percent queens percent brooklyn last year homicides detectives cleared percent manhattan percent bronx percent queens percent staten island percent brooklyn culture police department worry manhattan said joseph giacalone former sergeant bronx cold case squad part money added blasio came talked tale two cities done complete opposite said business usual bronx struggles extend prosecutions last five years prosecutors bronx declined prosecute violent felony cases anywhere else city rate conviction bronx routinely lowest city well ticked year surpass brooklyn rate november bronx prosecutors work streamline cases cases become even difficult win problem precinct allowed defense lawyers attack credibility officers implicated said patrice shaughnessy spokeswoman bronx district attorney office district attorney darcel clark elected said statement judge bronx heard jurors impartial trust police tide mistrust sergeant lopuzzo detectives work hours straight fresh cases buy chinese takeout money murder suspect carry surveillance videos home hopes personal computers may enhance better squad computer buy urn homeless mother murdered son ashes box months killing seem like people glittering city paying attention precinct homicide victims newly fatherless children back school without therapist help victims families wander confused courthouse nearly miss appearance newspapers largely ignore killings people criminal pasts pushing priority lists chiefs police headquarters stuffy squad room detectives precinct grapple inheritance government neglect meet mothers believe sons might never murdered city guidance counselor listened pleas help stay enrolled city housing worker fixed locks lights building detectives work alongside vicious system streets punishing police cooperators young men scan court paperwork prison looking names people turned one murder victim precinct year cast crew avoided arrested gang takedown believed cooperating longtime precinct detective jeff meenagh said witness homicide case going testify went back neighborhood told anyone testified would get deserve allies sergeant lopuzzo makes friendly long helped clear woman son robbery charge locating surveillance video proved robber mother started calling tips code name gun car example always refused testify cut ties year sergeant lopuzzo arrested son stabbing two people shooting new york city owns east street buildings side james fernandez betances houses said reality ground different drug boss ran block october fernandez increasingly afraid fed fernandez wife went far give officers keys building door could get whenever wanted showed videos offered access camera could see happening hallway couple officers said needed supervisor permission others answered young men making threats officers occasionally stopped outside building causing young men scatter come inside fernandez said menacing worsened fernandez daughter harassed arrived home school grew distressed parents start seeing therapist fernandez made several complaints office borough president ruben diaz visited victim advocate district attorney office oct sent online note police commissioner office went proper channels help note said precincts failed except officers helped hands tied one else turn months video multiple crimes taking place extreme danger psa anything wrote referring local substation please need speak one authority local substation commander deputy inspector jerry sullivan bronx narcotics unit alerted complaints fernandez said never heard relied street instincts protect family made pleas man thought employing dealers hallway activity quieted briefly returned young men rented room woman apartment upstairs fernandez approached different man learned boss operation man agreed ask dealers calm even hired drug customer sweep hallway fernandez said two weeks later dealing harassment resumed went old lower east side bosses hired men trail wife daughter way building make sure made safely school times sat outside betances houses also bought two bulletproof vests could find one small enough daughter faith city new york faith police faith politicians fernandez said thing know sure god situation left defend family paying close attention happening hallway fernandez said learned details two recent homicides precinct investigating calls help going nowhere said decided put greater risk talking would tell police learned bending backward nobody even anything said going help going help last january new neighborhood coordination officer working residents betances houses ended arrests housing command inspector sullivan said chief boyce said silos gang narcotics detectives used work made responding complaints difficult recent restructuring would remove obstacles one live like fernandez lived people dealing drugs outside apartment said fernandez complaints spur arrests two men hallway caught separately year shootings one fernandez named police report charged summer hitting officer metal folding chair firing three gunshots crowd court papers say held rikers island attempted murder charge late fernandez may moved family away\n",
      "Title: _START_ rift between officers and residents as killings persist in south bronx the new york times  _END_\n",
      "\n",
      "\n",
      "Text: walt disney bambi opened critics praised spare haunting visual style vastly different anything disney done know film striking appearance created chinese immigrant artist took inspiration landscape paintings song dynasty extent contribution bambi remains mark film animation would widely known decades like film title character artist tyrus wong weathered irrevocable separation mother hope making life america incarceration isolation rigorous interrogation still child years followed endured poverty discrimination chronic lack recognition work disney also fine art finding acclaim wong died friday hollywood studio artist painter printmaker calligrapher illustrator later years maker fantastical kites one celebrated artists century marginalization long subject passed much career unknown general public artistic recognition wong find noteworthy fact among chinese immigrant men generation professional prospects largely limited menial jobs like houseboy laundryman trained painter wong leading figure modernist movement flourished california first second world wars work included group shows art institute chicago also featured picasso matisse paul klee staff artist hollywood studios drew storyboards made vibrant paintings detailed architectural illustrations helped director envision scene shot years work informed look animated pictures disney films warner brothers studios among sands iwo jima rebel without cause wild bunch dozens films worked bambi wong belatedly renowned truly involved every phase production john canemaker animator historian animation new york university said interview obituary march created art direction really never seen animation wong subject water paper paint sky major retrospective disney family museum san francisco museum windows overlook san francisco bay could contemplate angel island nine decades earlier lone sought gain admission country adamantly want wong gen yeo born oct farming village guangdong province young child already exhibited love drawing encouraged father seeking better economic prospects gen yeo father embarked united states leaving mother sister behind gen yeo would never see mother obliged travel false identities state affairs known among chinese immigrants paper son hope circumventing chinese exclusion act signed law president chester arthur act drastically curtailed number chinese people allowed enter country among earliest united states laws impose severe restrictions immigration unforeseen loophole opened form san francisco earthquake fire huge number municipal documents including birth immigration records destroyed many newly arrived chinese capitalized loss maintaining born san francisco fire united states citizens entitled bring relatives case gen yeo father paper sons posing relatives attuned deception united states immigration officials put chinese arrivals formidable inquisition ensure claimed questions came like gunfire direction village face many windows house house rice bin wide well deep trees village lakes shops name sponsoring relative interrogated separately answers match new arrival major mistake series smaller ones could mean deportation stand chance passing aspirants memorized rigorous dossiers known coaching papers ensuing interrogation hard enough adults gen yeo would undergo alone dec month sea wongs landed angel island immigration station elder wong traveling merchant named look get son look tai yow angel island considered ellis island west coast lisa see author gold mountain nonfiction chronicle family said interview however continued goal really different ellis island supposed welcoming angel island opened specifically keep chinese wong father previously lived united states look get able clear immigration quickly new arrival gen yeo detained island nearly month child among immigrants held scared half death cried wong recalled tyrus documentary directed pamela tom premiered every day miserable miserable hated place jan presence interpreter stenographer young gen yeo posing look tai yow interrogated three inspectors father already questioned gen yeo well prepared answered without error sacramento joined father schoolteacher americanized tai yow tyrus known tyrus wong ever soon afterward father son separated elder wong moved los angeles seek work reasons lost time could take son tyrus lived sacramento boardinghouse attending elementary school two years later possibly tyrus traveled los angeles join father found work gambling den lived boardinghouse sandwiched butcher shop brothel school tyrus worked houseboy two pasadena families earning cents day first art teacher father trained nightly calligraphy dip brush water trace ghostly characters newspaper could afford ink drawing paper tyrus junior high teacher noting drawing talent arranged summer scholarship otis art institute los angeles account indifferent student public school tyrus found calling institute otis college art design scholarship ended declined return junior high father scraped together tuition small fortune let stay otis youngest student studied least five years simultaneously working school janitor graduating long afterward father died leaving young wong entirely wong artist works progress administration creating paintings libraries public spaces friends including artist benji okubo founded oriental artists group los angeles organized exhibitions members work level exposure asian artists time wong newly married needing steady work joined disney creating thousands intermediate drawings bring animated sequences life asians novelty hollywood studios wong made keenly aware fact first disney later warner brothers one flung racial epithet another assumed sight worked company cafeteria affront job painstaking repetitive wong quickly work animation terrible use talents landscape artist painter canemaker said reprieve came late wong learned disney adapting bambi life woods novel austrian writer felix salten fawn whose mother killed hunter trying animate book disney reached impasse studio enjoyed great success animated film snow white seven dwarfs baroque production every detail backgrounds every petal every flower every leaf every tree meticulously represented attempt use similar style bambi found ornate backgrounds camouflaged deer forest creatures narrative centered wong spied chance said gee outdoor scenery recalled video interview years afterward adding said gee landscape painter invoking exquisite landscape paintings song dynasty rendered watercolors pastels series nature scenes moody lyrical atmospheric lush spare backgrounds subtly suggested stroke two brush walt disney went crazy said canemaker wrote wong book animation begins art lives disney inspirational sketch artists said love indefinite quality mysterious quality forest wong unofficially promoted rank inspirational sketch artist canemaker explained designer person went questions color lay something even influenced music special effects look drawings inspired people wong spent two years painting illustrations would inform every aspect bambi throughout finished film lent brooding quality stark landscapes misty desaturated palette figures often seen silhouette influence unmistakable wake bitter employees strike year disney fired wong though chosen strike felt studio good canemaker said let amid lingering climate resentments bambi wong name appears quite far credits mere background artist wong joined warner brothers working lent occasion studios retirement indignities endured confined studios trying buy house wife former ruth kim told property inquired sold month back sign still wong recalled tyrus japanese attack pearl harbor december wong like many took wearing lapel button proclaiming heritage lest angry american beat street war permanently dispersed fledgling oriental artists group wong friend okubo sent tens thousands internment camp world war happened think artists even artists would name today see said little movement barely started split apart war wong became united states citizen also designed christmas cards hallmark painted elegant designs dinnerware sought collectors longtime resident sunland calif became retirement renowned kitemaker designing building hand coloring astonishing airworthy creations butterflies swallows whole flocks owls centipedes feet long streaked southern california sky like paint blue canvas last years ruth wong life ill dementia wong forsook work care death slowly began making art formal recognition influence bambi wong named disney legend honor whose previous recipients include fred macmurray julie andrews annette funicello bestowed walt disney company outstanding contributions retrospective work curated part see inaugural exhibition chinese american museum los angeles disney family museum retrospective water paper paint sky traveled museum chinese america lower manhattan wong death home sunland confirmed filmmaker tom survivors include three daughters kay fong wong kim wong two grandchildren daughters small wong encouraged make art father encouraged yet would let coloring books reason simple want children constrained said lines laid others\n",
      "Title: _START_ tyrus wong bambi artist thwarted by racial bias dies at the new york times  _END_\n",
      "\n",
      "\n",
      "Text: death may great equalizer necessarily evenhanded fields endeavor suffered mortal losses consider muhammad ali arnold palmer sports hollywood deaths carrie fisher debbie reynolds pop music world hands bleakest year start david bowie whose stage persona androgynous glam rocker dance pop star electronic experimentalist music year days old news came died cancer hinted time short lyrics final album released two days death otherwise gone great lengths hide illness public wish privacy ensured death would appear come blue came another shock three months later prince accidentally overdosed painkiller collapsed elevator sprawling home studio near minneapolis death came indications one including prince rogers nelson seen coming energetic onstage ever holding otherwise healthy regimen successfully defied age sixth decade death leonard cohen hand year undoubtedly see coming shoulder went hesitate say merry way ever wise troubadour playing sellout crowds shrugging inevitable knowing dark would finally overtake saying essentially another song delivered enough jolts system closed year yet another death george michael sensation whose aura dimmed later years went bed never woke christmas pop music figures fell year many voices still embedded nicked vinyl grooves old records lot people bear throw roster included paul kantner jefferson airplane keith emerson greg lake emerson lake palmer glenn frey eagles maurice white earth wind fire leon russell piano pounder delta blues wail mountain man mass hair died merle haggard rugged country poet common man outlaw joined bluegrass legend ralph stanley guitar virtuoso practically glued elvis swiveling hips early days scotty moore george martin whose genius creative influence sounds john paul george ringo hailed fifth beatle music stars could fill arenas could idols another stripe mighty athletes left scene figure among towering ali called greatest sports figure century boxer combined power grace brains way ring never seen great athlete matters war race religion coursed life publicly turbulent way people hated refused drafted vietnam war decision cost heavyweight title people admired even loved principled stands high spirits lightning mind winking yes rhyming motormouth illness closed little could contain certainly mere ropes around ring palmer transformational golf first media star gentleman game never quite began gathering army rolling greenswards leading charge shirt coming untucked cigarette dangling lips club weapon pressed attack entire generation postwar guys took game arnie women athletically blessed magnetically cool telegenically handsome somehow one said gordie howe hockey son saskatchewan prairie tore national hockey league hung skates died ralph branca trolley car conductor son living reminder one crushing mistake fastball bobby thomson decided national league pennant sometimes never lived pat summitt coach elevated women basketball led tennessee teams eight championships games college coach could defeat alzheimer disease dying within months national basketball association lost two giants different eras clyde lovelette olympic college champion transformed game one first truly big men hardwood heir nate thurmond defensive stalwart battled russell wilt kareem paint hall fame career even older baseball ranks monte irvin died people still around could remember watching play particularly prime star negro circuit barred major leagues made hall fame anyway new york giant became major league baseball first black executive died fans pondered question hung many athletic career shackled discrimination different question entirely different sphere arose stunning news justice antonin scalia died hunting trip texas thick one consequential supreme court careers modern times left void conservative jurisprudence urgently vacancy bench yet filled raising still questions may await country exits public stage returned past nancy reagan death evoked white house glamour west coast conservatism took residence banks potomac john glenn thinking burst national pride soaring outer space deaths tom hayden daniel berrigan avatars defiance harked back student rebellions vietnam war roiling home front phyllis schlafly obituaries windows roots right wing ascension american politics death janet reno first woman serve attorney general recalled clinton years eight firestorm waco tex international tug war cuban boy named eli gonz lez bitter senate battle impeachment shores fidel castro death summoned memories cuban revolution nuclear brinkmanship enduring enmity strongman superpower miles away name boutros egyptian diplomat led united nations led replayed nightmares genocide rwanda bosnia death shimon peres removed last link founding israel conjured decades growing military power fitful strivings peace elie wiesel new york tireless struggle compel world never forget made confront gas chambers auschwitz writers even fiction world poorer without literary voices harper lee umberto eco pat conroy jim harrison anita brookner alvin toffler gloria naylor william trevor mention playwrights peter shaffer dario edward albee dead treasured spun viewing pleasure none lustily fisher princess leia star wars tales day later capping year startling deaths reynolds singing acting leading lady earlier era died throes mother grief devotees harry potter movies saddened death alan rickman played deliciously dour professor severus snape blockbuster franchise whose career stage screen far richer many snape younger fans may known zsa zsa gabor celebrity contrast outshone modest acting career gene wilder garry shandling died year perfected brand hilariously neurotic comedy fit culture time abe vigoda godfather movies barney miller actually die actually done years ago wildly uninformed people spread word side camera directors whose vision came parts jacques rivette french new wave auteur meditations life art abbas kiarostami iranian master searching examinations ordinary lives andrzej wajda rival ingmar bergman akira kurosawa critics eyes haunting tales poland boot first nazis communists long roster television stars generation two ago passed images younger selves frozen time noel neill alan young robert vaughn william schallert patty duke dan haggerty florence henderson alan thicke garry marshall creative force practically owned prime time happy days mork mindy laverne shirley died broadway lights dimmed memory brian bedford tammy grimes anne jackson brilliant day architect zaha hadid left behind monuments fertile imagination shaken acolytes around world street photographer bill cunningham found fashion statements every corner suddenly missing making manhattan overnight less idiosyncratic less interesting place smiling skinny man pedaling bicycle among honking cabs blue french worker jacket camera slung around neck picture split scene seemingly generation fellow photographers made art recording last half century ruth gruber marc riboud louis stettner journalists morley safer gwen ifill commentator john mclaughlin tried make sense music precincts emptier without conductor revolutionary composer pierre boulez new music soprano phyllis curtin jazz artists mose allison bobby hutcherson gato barbieri rapper phife dawg latin megastar juan gabriel silicon valley saw giant depart andrew grove led semiconductor revolution intel television industry lost executive grant tinker made nbc network watch prime time astrophysics smaller world women science said farewell pioneer champion vera rubin tens thousands people might choked death saved simple ingenious maneuver passing henry heimlich prompted sympathy even gratitude come think eliciting large silent thank live bad way anyone brings marion pritchard died could inspired measures gratitude profound brave young dutch student gentile risked life save jews death camps early one instance shooting nazi stooge could seize three little children hiding estimate saved people many still alive died weeks ago anyone guess know certain reasonably surmise good many still possession selfless gift matchless legacy lives\n",
      "Title: _START_ among deaths in heavy toll in pop music the new york times  _END_\n",
      "\n",
      "\n",
      "Text: seoul south korea north korea leader kim said sunday country making final preparations conduct first test intercontinental ballistic missile bold statement less month inauguration donald trump although north korea conducted five nuclear tests last decade ballistic missile tests alone although habitually threatens attack united states nuclear weapons country never intercontinental ballistic missile icbm annual new year day speech broadcast north kctv sunday kim spoke proudly strides said country made nuclear weapons ballistic missile programs said north korea would continue bolster weapons programs long united states remained hostile continued joint military exercises south korea reached final stage preparations intercontinental ballistic rocket said analysts region said kim might conduct another weapons test coming months taking advantage leadership changes united states south korea trump sworn jan south korea president park whose powers suspended parliamentary impeachment dec waiting constitutional court rule whether formally removed office reinstated north korea conducts test coming months test trump new administration despite years increasingly harsh sanctions north korea advancing toward kim professed goal arming isolated country ability deliver nuclear warhead united states kim speech sunday indicated north korea may rocket several times year complete icbm program said cheong senior research fellow sejong institute south korea first tests could come even trump inauguration cheong said need take note fact first new year speech kim mentioned intercontinental ballistic missile said speech kim comment trump election doubt still runs deep north korea mastered technology needed build reliable icbm analysts region said north launchings rockets put satellites orbit recent years showed country cleared key technological hurdles north satellite launch february south korean defense officials said unha rocket used launch successfully reconfigured missile could fly miles warhead pounds far enough reach united states north korea deployed rodong ballistic missiles reach south korea japan spotty record musudan ballistic missile range long enough reach american military bases pacific including guam north also claimed series successes testing various icbm technologies although claims cannot verified often disputed officials analysts region said could make nuclear warheads small enough fit onto ballistic missile also claimed success testing technology allows missile return earth atmosphere without breaking april north korea reported successful ground test engine intercontinental ballistic missile time kim said north tip intercontinental ballistic rockets powerful nuclear warheads keep cesspool evils earth including mainland within striking range sept north conducted fifth powerful nuclear test kim later attended another ground test new rocket engine exhorting government prepare another rocket launch soon possible november united nations security council imposed new sanctions north\n",
      "Title: _START_ kim jong un says north korea is preparing to test long range missile the new york times  _END_\n",
      "\n",
      "\n"
     ]
    }
   ],
   "source": [
    "\n",
    "for i in range(5):\n",
    "    print(\"Text:\",data['cleaned_text'][i])\n",
    "    print(\"Title:\",data['cleaned_summary'][i])\n",
    "    print(\"\\n\")"
   ]
  },
  {
   "cell_type": "code",
   "execution_count": 15,
   "metadata": {},
   "outputs": [
    {
     "data": {
      "text/plain": [
       "array([[<matplotlib.axes._subplots.AxesSubplot object at 0x00000156EB138188>,\n",
       "        <matplotlib.axes._subplots.AxesSubplot object at 0x00000156F53CAAC8>]],\n",
       "      dtype=object)"
      ]
     },
     "execution_count": 15,
     "metadata": {},
     "output_type": "execute_result"
    }
   ],
   "source": [
    "import matplotlib.pyplot as plt\n",
    "text_word_count = []\n",
    "summary_word_count = []\n",
    "\n",
    "# populate the lists with sentence lengths\n",
    "for i in data['cleaned_text']:\n",
    "      text_word_count.append(len(i.split()))\n",
    "\n",
    "for i in data['cleaned_summary']:\n",
    "      summary_word_count.append(len(i.split()))\n",
    "\n",
    "length_df = pd.DataFrame({'text':text_word_count, 'summary':summary_word_count})\n",
    "length_df.hist(bins = 30)\n"
   ]
  },
  {
   "cell_type": "code",
   "execution_count": 16,
   "metadata": {},
   "outputs": [],
   "source": [
    "\n",
    "max_text_len=500 \n",
    "max_summary_len=25"
   ]
  },
  {
   "cell_type": "code",
   "execution_count": 17,
   "metadata": {},
   "outputs": [],
   "source": [
    "from sklearn.model_selection import train_test_split\n",
    "x_tr,x_val,y_tr,y_val=train_test_split(data['cleaned_text'],data['cleaned_summary'],test_size=0.1,random_state=0,shuffle=True) \n"
   ]
  },
  {
   "cell_type": "code",
   "execution_count": 18,
   "metadata": {},
   "outputs": [],
   "source": [
    "from keras.preprocessing.text import Tokenizer \n",
    "from keras.preprocessing.sequence import pad_sequences\n",
    "\n",
    "#prepare a tokenizer for reviews on training data\n",
    "x_tokenizer = Tokenizer() \n",
    "x_tokenizer.fit_on_texts(list(x_tr))"
   ]
  },
  {
   "cell_type": "code",
   "execution_count": 19,
   "metadata": {},
   "outputs": [
    {
     "name": "stdout",
     "output_type": "stream",
     "text": [
      "% of rare words in vocabulary: 54.7810323952989\n",
      "Total Coverage of rare words: 0.7876947081152343\n"
     ]
    }
   ],
   "source": [
    "thresh=4\n",
    "\n",
    "cnt=0\n",
    "tot_cnt=1\n",
    "freq=0\n",
    "tot_freq=1\n",
    "\n",
    "for key,value in x_tokenizer.word_counts.items():\n",
    "    tot_cnt=tot_cnt+1\n",
    "    tot_freq=tot_freq+value\n",
    "    if(value<thresh):\n",
    "        cnt=cnt+1\n",
    "        freq=freq+value\n",
    "    \n",
    "print(\"% of rare words in vocabulary:\",(cnt/tot_cnt)*100)\n",
    "print(\"Total Coverage of rare words:\",(freq/tot_freq)*100)"
   ]
  },
  {
   "cell_type": "code",
   "execution_count": 20,
   "metadata": {},
   "outputs": [],
   "source": [
    "#prepare a tokenizer for reviews on training data\n",
    "x_tokenizer = Tokenizer(num_words=tot_cnt-cnt) \n",
    "x_tokenizer.fit_on_texts(list(x_tr))\n",
    "\n",
    "#convert text sequences into integer sequences\n",
    "x_tr_seq    =   x_tokenizer.texts_to_sequences(x_tr) \n",
    "x_val_seq   =   x_tokenizer.texts_to_sequences(x_val)\n",
    "\n",
    "#padding zero upto maximum length\n",
    "x_tr    =   pad_sequences(x_tr_seq,  maxlen=max_text_len, padding='post')\n",
    "x_val   =   pad_sequences(x_val_seq, maxlen=max_text_len, padding='post')\n",
    "\n",
    "#size of vocabulary ( +1 for padding token)\n",
    "x_voc   =  x_tokenizer.num_words + 1"
   ]
  },
  {
   "cell_type": "code",
   "execution_count": 21,
   "metadata": {},
   "outputs": [
    {
     "data": {
      "text/plain": [
       "67602"
      ]
     },
     "execution_count": 21,
     "metadata": {},
     "output_type": "execute_result"
    }
   ],
   "source": [
    "x_voc"
   ]
  },
  {
   "cell_type": "code",
   "execution_count": 22,
   "metadata": {},
   "outputs": [],
   "source": [
    "#prepare a tokenizer for reviews on training data\n",
    "y_tokenizer = Tokenizer()   \n",
    "y_tokenizer.fit_on_texts(list(y_tr))"
   ]
  },
  {
   "cell_type": "code",
   "execution_count": 23,
   "metadata": {},
   "outputs": [
    {
     "name": "stdout",
     "output_type": "stream",
     "text": [
      "% of rare words in vocabulary: 69.75495915985998\n",
      "Total Coverage of rare words: 5.799168497179927\n"
     ]
    }
   ],
   "source": [
    "thresh=6\n",
    "\n",
    "cnt=0\n",
    "tot_cnt=0\n",
    "freq=0\n",
    "tot_freq=0\n",
    "\n",
    "for key,value in y_tokenizer.word_counts.items():\n",
    "    tot_cnt=tot_cnt+1\n",
    "    tot_freq=tot_freq+value\n",
    "    if(value<thresh):\n",
    "        cnt=cnt+1\n",
    "        freq=freq+value\n",
    "    \n",
    "print(\"% of rare words in vocabulary:\",(cnt/tot_cnt)*100)\n",
    "print(\"Total Coverage of rare words:\",(freq/tot_freq)*100)"
   ]
  },
  {
   "cell_type": "code",
   "execution_count": 24,
   "metadata": {},
   "outputs": [],
   "source": [
    "#prepare a tokenizer for reviews on training data\n",
    "y_tokenizer = Tokenizer(num_words=tot_cnt-cnt) \n",
    "y_tokenizer.fit_on_texts(list(y_tr))\n",
    "\n",
    "#convert text sequences into integer sequences\n",
    "y_tr_seq    =   y_tokenizer.texts_to_sequences(y_tr) \n",
    "y_val_seq   =   y_tokenizer.texts_to_sequences(y_val) \n",
    "\n",
    "#padding zero upto maximum length\n",
    "y_tr    =   pad_sequences(y_tr_seq, maxlen=max_summary_len, padding='post')\n",
    "y_val   =   pad_sequences(y_val_seq, maxlen=max_summary_len, padding='post')\n",
    "\n",
    "#size of vocabulary\n",
    "y_voc  =   y_tokenizer.num_words +1"
   ]
  },
  {
   "cell_type": "code",
   "execution_count": 25,
   "metadata": {},
   "outputs": [
    {
     "data": {
      "text/plain": [
       "7777"
      ]
     },
     "execution_count": 25,
     "metadata": {},
     "output_type": "execute_result"
    }
   ],
   "source": [
    "y_voc"
   ]
  },
  {
   "cell_type": "code",
   "execution_count": 26,
   "metadata": {},
   "outputs": [
    {
     "name": "stdout",
     "output_type": "stream",
     "text": [
      "WARNING:tensorflow:From C:\\Users\\Tamuz\\Anaconda3\\envs\\rnn\\lib\\site-packages\\keras\\backend\\tensorflow_backend.py:95: The name tf.reset_default_graph is deprecated. Please use tf.compat.v1.reset_default_graph instead.\n",
      "\n",
      "WARNING:tensorflow:From C:\\Users\\Tamuz\\Anaconda3\\envs\\rnn\\lib\\site-packages\\keras\\backend\\tensorflow_backend.py:98: The name tf.placeholder_with_default is deprecated. Please use tf.compat.v1.placeholder_with_default instead.\n",
      "\n",
      "WARNING:tensorflow:From C:\\Users\\Tamuz\\Anaconda3\\envs\\rnn\\lib\\site-packages\\keras\\backend\\tensorflow_backend.py:102: The name tf.get_default_graph is deprecated. Please use tf.compat.v1.get_default_graph instead.\n",
      "\n",
      "WARNING:tensorflow:From C:\\Users\\Tamuz\\Anaconda3\\envs\\rnn\\lib\\site-packages\\tensorflow_core\\python\\keras\\initializers.py:119: calling RandomUniform.__init__ (from tensorflow.python.ops.init_ops) with dtype is deprecated and will be removed in a future version.\n",
      "Instructions for updating:\n",
      "Call initializer instance with the dtype argument instead of passing it to the constructor\n",
      "WARNING:tensorflow:From C:\\Users\\Tamuz\\Anaconda3\\envs\\rnn\\lib\\site-packages\\tensorflow_core\\python\\ops\\resource_variable_ops.py:1630: calling BaseResourceVariable.__init__ (from tensorflow.python.ops.resource_variable_ops) with constraint is deprecated and will be removed in a future version.\n",
      "Instructions for updating:\n",
      "If using Keras pass *_constraint arguments to layers.\n",
      "Model: \"model\"\n",
      "__________________________________________________________________________________________________\n",
      "Layer (type)                    Output Shape         Param #     Connected to                     \n",
      "==================================================================================================\n",
      "input_1 (InputLayer)            [(None, 500)]        0                                            \n",
      "__________________________________________________________________________________________________\n",
      "embedding (Embedding)           (None, 500, 100)     6760200     input_1[0][0]                    \n",
      "__________________________________________________________________________________________________\n",
      "lstm (LSTM)                     [(None, 500, 100), ( 80400       embedding[0][0]                  \n",
      "__________________________________________________________________________________________________\n",
      "input_2 (InputLayer)            [(None, None)]       0                                            \n",
      "__________________________________________________________________________________________________\n",
      "lstm_1 (LSTM)                   [(None, 500, 100), ( 80400       lstm[0][0]                       \n",
      "__________________________________________________________________________________________________\n",
      "embedding_1 (Embedding)         (None, None, 100)    777700      input_2[0][0]                    \n",
      "__________________________________________________________________________________________________\n",
      "lstm_2 (LSTM)                   [(None, 500, 100), ( 80400       lstm_1[0][0]                     \n",
      "__________________________________________________________________________________________________\n",
      "lstm_3 (LSTM)                   [(None, None, 100),  80400       embedding_1[0][0]                \n",
      "                                                                 lstm_2[0][1]                     \n",
      "                                                                 lstm_2[0][2]                     \n",
      "__________________________________________________________________________________________________\n",
      "attention_layer (AttentionLayer ((None, None, 100),  20100       lstm_2[0][0]                     \n",
      "                                                                 lstm_3[0][0]                     \n",
      "__________________________________________________________________________________________________\n",
      "concat_layer (Concatenate)      (None, None, 200)    0           lstm_3[0][0]                     \n",
      "                                                                 attention_layer[0][0]            \n",
      "__________________________________________________________________________________________________\n",
      "time_distributed (TimeDistribut (None, None, 7777)   1563177     concat_layer[0][0]               \n",
      "==================================================================================================\n",
      "Total params: 9,442,777\n",
      "Trainable params: 9,442,777\n",
      "Non-trainable params: 0\n",
      "__________________________________________________________________________________________________\n"
     ]
    }
   ],
   "source": [
    "from keras import backend as K \n",
    "K.clear_session() \n",
    "latent_dim = 100 \n",
    "\n",
    "# Encoder \n",
    "encoder_inputs = Input(shape=(max_text_len,)) \n",
    "enc_emb = Embedding(x_voc, latent_dim,trainable=True)(encoder_inputs) \n",
    "\n",
    "#LSTM 1 \n",
    "encoder_lstm1 = LSTM(latent_dim,return_sequences=True,return_state=True) \n",
    "encoder_output1, state_h1, state_c1 = encoder_lstm1(enc_emb) \n",
    "\n",
    "#LSTM 2 \n",
    "encoder_lstm2 = LSTM(latent_dim,return_sequences=True,return_state=True) \n",
    "encoder_output2, state_h2, state_c2 = encoder_lstm2(encoder_output1) \n",
    "\n",
    "#LSTM 3 \n",
    "encoder_lstm3=LSTM(latent_dim, return_state=True, return_sequences=True) \n",
    "encoder_outputs, state_h, state_c= encoder_lstm3(encoder_output2) \n",
    "\n",
    "# Set up the decoder. \n",
    "decoder_inputs = Input(shape=(None,)) \n",
    "dec_emb_layer = Embedding(y_voc, latent_dim,trainable=True) \n",
    "dec_emb = dec_emb_layer(decoder_inputs) \n",
    "\n",
    "#LSTM using encoder_states as initial state\n",
    "decoder_lstm = LSTM(latent_dim, return_sequences=True, return_state=True) \n",
    "decoder_outputs,decoder_fwd_state, decoder_back_state = decoder_lstm(dec_emb,initial_state=[state_h, state_c]) \n",
    "\n",
    "#Attention Layer\n",
    "attn_layer = AttentionLayer(name='attention_layer') \n",
    "attn_out, attn_states = attn_layer([encoder_outputs, decoder_outputs]) \n",
    "\n",
    "# Concat attention output and decoder LSTM output \n",
    "decoder_concat_input = Concatenate(axis=-1, name='concat_layer')([decoder_outputs, attn_out])\n",
    "\n",
    "#Dense layer\n",
    "decoder_dense = TimeDistributed(Dense(y_voc, activation='softmax')) \n",
    "decoder_outputs = decoder_dense(decoder_concat_input) \n",
    "\n",
    "# Define the model\n",
    "model = Model([encoder_inputs, decoder_inputs], decoder_outputs) \n",
    "model.summary()"
   ]
  },
  {
   "cell_type": "code",
   "execution_count": 27,
   "metadata": {},
   "outputs": [],
   "source": [
    "model_save = model"
   ]
  },
  {
   "cell_type": "code",
   "execution_count": 28,
   "metadata": {},
   "outputs": [],
   "source": [
    "model = model_save"
   ]
  },
  {
   "cell_type": "code",
   "execution_count": 29,
   "metadata": {},
   "outputs": [],
   "source": [
    "model.compile(optimizer='rmsprop', loss='sparse_categorical_crossentropy')\n"
   ]
  },
  {
   "cell_type": "code",
   "execution_count": 30,
   "metadata": {},
   "outputs": [],
   "source": [
    "es = EarlyStopping(monitor='val_loss', mode='min', verbose=1)\n"
   ]
  },
  {
   "cell_type": "code",
   "execution_count": 31,
   "metadata": {},
   "outputs": [
    {
     "name": "stdout",
     "output_type": "stream",
     "text": [
      "Num GPUs Available:  0\n"
     ]
    }
   ],
   "source": [
    "from __future__ import absolute_import, division, print_function, unicode_literals\n",
    "\n",
    "import tensorflow as tf\n",
    "print(\"Num GPUs Available: \", len(tf.config.experimental.list_physical_devices('GPU')))"
   ]
  },
  {
   "cell_type": "code",
   "execution_count": 32,
   "metadata": {},
   "outputs": [
    {
     "data": {
      "text/plain": [
       "[name: \"/device:CPU:0\"\n",
       " device_type: \"CPU\"\n",
       " memory_limit: 268435456\n",
       " locality {\n",
       " }\n",
       " incarnation: 13374463846615807691]"
      ]
     },
     "execution_count": 32,
     "metadata": {},
     "output_type": "execute_result"
    }
   ],
   "source": [
    "from tensorflow.python.client import device_lib\n",
    "\n",
    "device_lib.list_local_devices()"
   ]
  },
  {
   "cell_type": "code",
   "execution_count": null,
   "metadata": {},
   "outputs": [],
   "source": []
  },
  {
   "cell_type": "code",
   "execution_count": null,
   "metadata": {},
   "outputs": [],
   "source": [
    "\n"
   ]
  },
  {
   "cell_type": "code",
   "execution_count": null,
   "metadata": {},
   "outputs": [
    {
     "name": "stdout",
     "output_type": "stream",
     "text": [
      "Train on 44997 samples, validate on 5000 samples\n",
      "Epoch 1/10\n",
      "44997/44997 [==============================] - 2389s 53ms/sample - loss: 2.9219 - val_loss: 2.8601\n",
      "Epoch 2/10\n",
      "31744/44997 [====================>.........] - ETA: 11:40 - loss: 2.8526"
     ]
    }
   ],
   "source": [
    "history=model.fit([x_tr,y_tr[:,:-1]], y_tr.reshape(y_tr.shape[0],y_tr.shape[1], 1)[:,1:] ,\n",
    "                  epochs=10,callbacks=[es],batch_size=512, validation_data=([x_val,y_val[:,:-1]], \n",
    "                y_val.reshape(y_val.shape[0],y_val.shape[1], 1)[:,1:]))"
   ]
  },
  {
   "cell_type": "code",
   "execution_count": null,
   "metadata": {},
   "outputs": [],
   "source": []
  },
  {
   "cell_type": "code",
   "execution_count": 35,
   "metadata": {},
   "outputs": [
    {
     "data": {
      "image/png": "[encoded data removed]",
      "text/plain": [
       "<Figure size 432x288 with 1 Axes>"
      ]
     },
     "metadata": {
      "needs_background": "light"
     },
     "output_type": "display_data"
    }
   ],
   "source": [
    "from matplotlib import pyplot \n",
    "pyplot.plot(history.history['loss'], label='train') \n",
    "pyplot.plot(history.history['val_loss'], label='test') \n",
    "pyplot.legend() \n",
    "pyplot.show()"
   ]
  },
  {
   "cell_type": "code",
   "execution_count": 89,
   "metadata": {},
   "outputs": [],
   "source": [
    "\n",
    "reverse_target_word_index=y_tokenizer.index_word\n",
    "reverse_target_word_index[0] = 'unkowen'\n",
    "reverse_source_word_index=x_tokenizer.index_word\n",
    "target_word_index=y_tokenizer.word_index"
   ]
  },
  {
   "cell_type": "code",
   "execution_count": null,
   "metadata": {},
   "outputs": [],
   "source": []
  },
  {
   "cell_type": "code",
   "execution_count": 90,
   "metadata": {},
   "outputs": [],
   "source": [
    "# Encode the input sequence to get the feature vector\n",
    "encoder_model = Model(inputs=encoder_inputs,outputs=[encoder_outputs, state_h, state_c])\n",
    "\n",
    "# Decoder setup\n",
    "# Below tensors will hold the states of the previous time step\n",
    "decoder_state_input_h = Input(shape=(latent_dim,))\n",
    "decoder_state_input_c = Input(shape=(latent_dim,))\n",
    "decoder_hidden_state_input = Input(shape=(max_text_len,latent_dim))\n",
    "\n",
    "# Get the embeddings of the decoder sequence\n",
    "dec_emb2= dec_emb_layer(decoder_inputs) \n",
    "# To predict the next word in the sequence, set the initial states to the states from the previous time step\n",
    "decoder_outputs2, state_h2, state_c2 = decoder_lstm(dec_emb2, initial_state=[decoder_state_input_h, decoder_state_input_c])\n",
    "\n",
    "#attention inference\n",
    "attn_out_inf, attn_states_inf = attn_layer([decoder_hidden_state_input, decoder_outputs2])\n",
    "decoder_inf_concat = Concatenate(axis=-1, name='concat')([decoder_outputs2, attn_out_inf])\n",
    "\n",
    "# A dense softmax layer to generate prob dist. over the target vocabulary\n",
    "decoder_outputs2 = decoder_dense(decoder_inf_concat) \n",
    "\n",
    "# Final decoder model\n",
    "decoder_model = Model(\n",
    "    [decoder_inputs] + [decoder_hidden_state_input,decoder_state_input_h, decoder_state_input_c],\n",
    "    [decoder_outputs2] + [state_h2, state_c2])"
   ]
  },
  {
   "cell_type": "code",
   "execution_count": 91,
   "metadata": {},
   "outputs": [],
   "source": [
    "\n",
    "reverse_target_word_index=y_tokenizer.index_word \n",
    "reverse_source_word_index=x_tokenizer.index_word \n",
    "target_word_index=y_tokenizer.word_index"
   ]
  },
  {
   "cell_type": "code",
   "execution_count": null,
   "metadata": {},
   "outputs": [],
   "source": []
  },
  {
   "cell_type": "code",
   "execution_count": 92,
   "metadata": {},
   "outputs": [],
   "source": [
    "# decoder inference\n",
    "# Below tensors will hold the states of the previous time step\n",
    "decoder_state_input_h = Input(shape=(latent_dim,))\n",
    "decoder_state_input_c = Input(shape=(latent_dim,))\n",
    "decoder_hidden_state_input = Input(shape=(max_text_len,latent_dim))\n",
    "\n",
    "# Get the embeddings of the decoder sequence\n",
    "dec_emb2= dec_emb_layer(decoder_inputs)\n",
    "\n",
    "# To predict the next word in the sequence, set the initial states to the states from the previous time step\n",
    "decoder_outputs2, state_h2, state_c2 = decoder_lstm(dec_emb2, initial_state=[decoder_state_input_h, decoder_state_input_c])\n",
    "\n",
    "#attention inference\n",
    "attn_out_inf, attn_states_inf = attn_layer([decoder_hidden_state_input, decoder_outputs2])\n",
    "decoder_inf_concat = Concatenate(axis=-1, name='concat')([decoder_outputs2, attn_out_inf])\n",
    "\n",
    "# A dense softmax layer to generate prob dist. over the target vocabulary\n",
    "decoder_outputs2 = decoder_dense(decoder_inf_concat)\n",
    "\n",
    "# Final decoder model\n",
    "decoder_model = Model(\n",
    "[decoder_inputs] + [decoder_hidden_state_input,decoder_state_input_h, decoder_state_input_c],\n",
    "[decoder_outputs2] + [state_h2, state_c2])"
   ]
  },
  {
   "cell_type": "code",
   "execution_count": 93,
   "metadata": {},
   "outputs": [],
   "source": [
    "def decode_sequence(input_seq):\n",
    "    # Encode the input as state vectors.\n",
    "    e_out, e_h, e_c = encoder_model.predict(input_seq)\n",
    "\n",
    "    # Generate empty target sequence of length 1.\n",
    "    target_seq = np.zeros((1,1))\n",
    "\n",
    "    # Chose the 'start' word as the first word of the target sequence\n",
    "    target_seq[0, 0] = target_word_index['start']\n",
    "\n",
    "    stop_condition = False\n",
    "    decoded_sentence = ''\n",
    "    while not stop_condition:\n",
    "        output_tokens, h, c = decoder_model.predict([target_seq] + [e_out, e_h, e_c])\n",
    "\n",
    "        # Sample a token\n",
    "        sampled_token_index = np.argmax(output_tokens[0, -1, :])\n",
    "        sampled_token = reverse_target_word_index[sampled_token_index]\n",
    "\n",
    "        if(sampled_token!='_END_'):\n",
    "            decoded_sentence += ' '+sampled_token\n",
    "\n",
    "            # Exit condition: either hit max length or find stop word.\n",
    "            if (sampled_token == '_END_' or len(decoded_sentence.split()) >= (max_summary_len-1)):\n",
    "                stop_condition = True\n",
    "\n",
    "        # Update the target sequence (of length 1).\n",
    "        target_seq = np.zeros((1,1))\n",
    "        target_seq[0, 0] = sampled_token_index\n",
    "\n",
    "        # Update internal states\n",
    "        e_h, e_c = h, c\n",
    "\n",
    "    return decoded_sentence"
   ]
  },
  {
   "cell_type": "code",
   "execution_count": 94,
   "metadata": {},
   "outputs": [],
   "source": [
    "\n",
    "def seq2summary(input_seq):\n",
    "    newString=''\n",
    "    for i in input_seq:\n",
    "        if((i!=0 and i!=target_word_index['start']) and i!=target_word_index['end']):\n",
    "            newString=newString+reverse_target_word_index[i]+' '\n",
    "    return newString\n",
    "\n",
    "def seq2text(input_seq):\n",
    "    newString=''\n",
    "    for i in input_seq:\n",
    "        if(i!=0):\n",
    "            newString = newString+reverse_source_word_index[i]+' '\n",
    "    return newString"
   ]
  },
  {
   "cell_type": "code",
   "execution_count": 98,
   "metadata": {
    "scrolled": false
   },
   "outputs": [
    {
     "name": "stdout",
     "output_type": "stream",
     "text": [
      "Review: friday mark cinco mayo celebration many americans fans michael savage fifth may anniversary darker event banning savage united kingdom eighth year savage ban britain world net daily launched petition calling president trump demand britain remove michael savage travel ban list petition reads part therefore hereby add names petition calling president donald trump state department demand british government remove michael savage travel ban outrageous western nation would ban popular american commentator millions listeners several new york times bestselling books balance list apparently fearing would accused biased muslims michael savage never advocated violence political views protected first amendment rooted tradition began britain magna carta according world net daily announcement petition ban made sense still eight years later wnd alleges savage ban gesture made balance list dominated muslim extremists comparing michael savage members home office list makes sharp divide clear take example abd mohamed refers osama bin laden martyr hero mujahid denounces western intervention isis crusade far cry content michael savage daily radio show books savage believes donald trump sympathetic case petition signed ban trump entering united kingdom conservatives opponents islamic extremism including pamela geller robert spencer also subject entry refusals savage specifically named part notorious group people publically released may might see things differently well lot changed last eight years famous bust winston churchill restored oval office british people voted leave european union news cycle england dominated terror attacks terror arrests near daily basis must leave average brit receptive savage message borders language culture geert wilders temporarily banned united kingdom published breitbart news subject travel bans view united kingdom must willing face facts even want hear instead hiding excuses like preserving community harmony case quotes ronald reagan speaking british parliament saying history teaches anything teaches face unpleasant facts folly sentiment michael savage president donald trump would strongly endorse read petition full sign agree michael savage longer banned britain colin madine contributor editor breitbart news reached cmadine breitbart com \n",
      "Original summary: make england savage again petition calls for radio legend to be un banned from uk breitbart \n",
      "Predicted summary:  the the the new york times end unkowen unkowen unkowen unkowen unkowen unkowen unkowen unkowen unkowen unkowen unkowen unkowen unkowen unkowen unkowen unkowen unkowen\n",
      "\n",
      "\n"
     ]
    }
   ],
   "source": [
    "for i in range(0,1):\n",
    "    print(\"Review:\",seq2text(x_val[i]))\n",
    "    print(\"Original summary:\",seq2summary(y_val[i]))\n",
    "    print(\"Predicted summary:\",decode_sequence(x_val[i].reshape(1,max_text_len)))\n",
    "    print(\"\\n\")"
   ]
  },
  {
   "cell_type": "code",
   "execution_count": 85,
   "metadata": {},
   "outputs": [
    {
     "data": {
      "text/plain": [
       "'the'"
      ]
     },
     "execution_count": 85,
     "metadata": {},
     "output_type": "execute_result"
    }
   ],
   "source": []
  },
  {
   "cell_type": "code",
   "execution_count": null,
   "metadata": {},
   "outputs": [],
   "source": []
  }
 ],
 "metadata": {
  "kernelspec": {
   "display_name": "Python 3",
   "language": "python",
   "name": "python3"
  },
  "language_info": {
   "codemirror_mode": {
    "name": "ipython",
    "version": 3
   },
   "file_extension": ".py",
   "mimetype": "text/x-python",
   "name": "python",
   "nbconvert_exporter": "python",
   "pygments_lexer": "ipython3",
   "version": "3.6.10"
  }
 },
 "nbformat": 4,
 "nbformat_minor": 2
}
